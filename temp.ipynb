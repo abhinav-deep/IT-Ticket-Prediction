{
 "cells": [
  {
   "cell_type": "markdown",
   "metadata": {},
   "source": [
    "IT Support Ticket Classification and Prediction"
   ]
  },
  {
   "cell_type": "code",
   "execution_count": 1,
   "metadata": {},
   "outputs": [
    {
     "name": "stderr",
     "output_type": "stream",
     "text": [
      "[nltk_data] Downloading package wordnet to\n",
      "[nltk_data]     /home/abhinavdeep/nltk_data...\n",
      "[nltk_data]   Package wordnet is already up-to-date!\n"
     ]
    }
   ],
   "source": [
    "import numpy as np\n",
    "import pandas as pd\n",
    "import matplotlib.pyplot as plt\n",
    "import seaborn as sns\n",
    "import string\n",
    "import re\n",
    "# nltk\n",
    "import nltk\n",
    "from nltk.stem import WordNetLemmatizer\n",
    "nltk.download('wordnet')\n",
    "# wordcloud\n",
    "from wordcloud import WordCloud\n",
    "# sklearn\n",
    "from sklearn.svm import LinearSVC\n",
    "from sklearn.naive_bayes import BernoulliNB\n",
    "from sklearn.linear_model import LogisticRegression\n",
    "from sklearn.model_selection import train_test_split\n",
    "from sklearn.feature_extraction.text import TfidfVectorizer\n",
    "from sklearn.feature_extraction.text import CountVectorizer\n",
    "from sklearn.metrics import confusion_matrix, classification_report\n",
    "from nltk.tokenize import RegexpTokenizer\n",
    "\n",
    "from flask import Flask, render_template, request"
   ]
  },
  {
   "cell_type": "code",
   "execution_count": 2,
   "metadata": {},
   "outputs": [],
   "source": [
    "# read dataset\n",
    "path = \"./Datasets/cat-tickets.csv\"\n",
    "tickets = pd.read_csv(path)"
   ]
  },
  {
   "cell_type": "markdown",
   "metadata": {},
   "source": [
    "Exploratory Data Analysis"
   ]
  },
  {
   "cell_type": "code",
   "execution_count": 3,
   "metadata": {},
   "outputs": [
    {
     "data": {
      "text/html": [
       "<div>\n",
       "<style scoped>\n",
       "    .dataframe tbody tr th:only-of-type {\n",
       "        vertical-align: middle;\n",
       "    }\n",
       "\n",
       "    .dataframe tbody tr th {\n",
       "        vertical-align: top;\n",
       "    }\n",
       "\n",
       "    .dataframe thead th {\n",
       "        text-align: right;\n",
       "    }\n",
       "</style>\n",
       "<table border=\"1\" class=\"dataframe\">\n",
       "  <thead>\n",
       "    <tr style=\"text-align: right;\">\n",
       "      <th></th>\n",
       "      <th>Description</th>\n",
       "      <th>Category</th>\n",
       "    </tr>\n",
       "  </thead>\n",
       "  <tbody>\n",
       "    <tr>\n",
       "      <th>count</th>\n",
       "      <td>3000</td>\n",
       "      <td>3000</td>\n",
       "    </tr>\n",
       "    <tr>\n",
       "      <th>unique</th>\n",
       "      <td>3000</td>\n",
       "      <td>5</td>\n",
       "    </tr>\n",
       "    <tr>\n",
       "      <th>top</th>\n",
       "      <td>hi since recruiter lead permission approve req...</td>\n",
       "      <td>D</td>\n",
       "    </tr>\n",
       "    <tr>\n",
       "      <th>freq</th>\n",
       "      <td>1</td>\n",
       "      <td>600</td>\n",
       "    </tr>\n",
       "  </tbody>\n",
       "</table>\n",
       "</div>"
      ],
      "text/plain": [
       "                                              Description Category\n",
       "count                                                3000     3000\n",
       "unique                                               3000        5\n",
       "top     hi since recruiter lead permission approve req...        D\n",
       "freq                                                    1      600"
      ]
     },
     "execution_count": 3,
     "metadata": {},
     "output_type": "execute_result"
    }
   ],
   "source": [
    "# describing data\n",
    "tickets.describe()"
   ]
  },
  {
   "cell_type": "code",
   "execution_count": 4,
   "metadata": {},
   "outputs": [
    {
     "data": {
      "text/html": [
       "<div>\n",
       "<style scoped>\n",
       "    .dataframe tbody tr th:only-of-type {\n",
       "        vertical-align: middle;\n",
       "    }\n",
       "\n",
       "    .dataframe tbody tr th {\n",
       "        vertical-align: top;\n",
       "    }\n",
       "\n",
       "    .dataframe thead th {\n",
       "        text-align: right;\n",
       "    }\n",
       "</style>\n",
       "<table border=\"1\" class=\"dataframe\">\n",
       "  <thead>\n",
       "    <tr style=\"text-align: right;\">\n",
       "      <th></th>\n",
       "      <th>Description</th>\n",
       "      <th>Category</th>\n",
       "    </tr>\n",
       "  </thead>\n",
       "  <tbody>\n",
       "    <tr>\n",
       "      <th>0</th>\n",
       "      <td>hi since recruiter lead permission approve req...</td>\n",
       "      <td>D</td>\n",
       "    </tr>\n",
       "    <tr>\n",
       "      <th>1</th>\n",
       "      <td>re expire days hi ask help update passwords co...</td>\n",
       "      <td>D</td>\n",
       "    </tr>\n",
       "    <tr>\n",
       "      <th>2</th>\n",
       "      <td>verification warning hi has got attached pleas...</td>\n",
       "      <td>D</td>\n",
       "    </tr>\n",
       "    <tr>\n",
       "      <th>3</th>\n",
       "      <td>please dear looks blacklisted receiving mails ...</td>\n",
       "      <td>D</td>\n",
       "    </tr>\n",
       "    <tr>\n",
       "      <th>4</th>\n",
       "      <td>dear modules report report cost thank much reg...</td>\n",
       "      <td>D</td>\n",
       "    </tr>\n",
       "  </tbody>\n",
       "</table>\n",
       "</div>"
      ],
      "text/plain": [
       "                                         Description Category\n",
       "0  hi since recruiter lead permission approve req...        D\n",
       "1  re expire days hi ask help update passwords co...        D\n",
       "2  verification warning hi has got attached pleas...        D\n",
       "3  please dear looks blacklisted receiving mails ...        D\n",
       "4  dear modules report report cost thank much reg...        D"
      ]
     },
     "execution_count": 4,
     "metadata": {},
     "output_type": "execute_result"
    }
   ],
   "source": [
    "# how data looks\n",
    "tickets.head()"
   ]
  },
  {
   "cell_type": "code",
   "execution_count": 5,
   "metadata": {},
   "outputs": [
    {
     "data": {
      "text/plain": [
       "(3000, 2)"
      ]
     },
     "execution_count": 5,
     "metadata": {},
     "output_type": "execute_result"
    }
   ],
   "source": [
    "tickets.shape"
   ]
  },
  {
   "cell_type": "code",
   "execution_count": 6,
   "metadata": {},
   "outputs": [
    {
     "data": {
      "text/plain": [
       "D    600\n",
       "E    600\n",
       "A    600\n",
       "B    600\n",
       "C    600\n",
       "Name: Category, dtype: int64"
      ]
     },
     "execution_count": 6,
     "metadata": {},
     "output_type": "execute_result"
    }
   ],
   "source": [
    "# value count of each category\n",
    "tickets['Category'].value_counts()"
   ]
  },
  {
   "cell_type": "code",
   "execution_count": 7,
   "metadata": {},
   "outputs": [
    {
     "data": {
      "text/plain": [
       "<AxesSubplot:xlabel='Category', ylabel='count'>"
      ]
     },
     "execution_count": 7,
     "metadata": {},
     "output_type": "execute_result"
    },
    {
     "data": {
      "image/png": "[encoded data removed]",
      "text/plain": [
       "<Figure size 432x288 with 1 Axes>"
      ]
     },
     "metadata": {
      "needs_background": "light"
     },
     "output_type": "display_data"
    }
   ],
   "source": [
    "# # visualising data\n",
    "sns.countplot(x = tickets['Category'])"
   ]
  },
  {
   "cell_type": "code",
   "execution_count": 8,
   "metadata": {},
   "outputs": [
    {
     "data": {
      "text/plain": [
       "0       hi since recruiter lead permission approve req...\n",
       "1       re expire days hi ask help update passwords co...\n",
       "2       verification warning hi has got attached pleas...\n",
       "3       please dear looks blacklisted receiving mails ...\n",
       "4       dear modules report report cost thank much reg...\n",
       "                              ...                        \n",
       "2995    sent tuesday feedback follow up conf call hell...\n",
       "2996    sent monday issues hi keep getting errors whil...\n",
       "2997    sent monday en working properly hi guys we hav...\n",
       "2998    sent wednesday july hi please log incident for...\n",
       "2999    sent tuesday july connection issues hello have...\n",
       "Name: Description, Length: 3000, dtype: object"
      ]
     },
     "execution_count": 8,
     "metadata": {},
     "output_type": "execute_result"
    }
   ],
   "source": [
    "tickets['Description']"
   ]
  },
  {
   "cell_type": "code",
   "execution_count": 9,
   "metadata": {},
   "outputs": [
    {
     "data": {
      "text/plain": [
       "'\\ncat_A = tickets[tickets[\"Category\"] == \\'A\\']\\nplt.figure(figsize = (20, 20))\\nwc = WordCloud(max_words = 1000 , width = 1600 , height = 800,\\n               collocations=False).generate(\" \".join(cat_A[\"Description\"]))\\nplt.imshow(wc)'"
      ]
     },
     "execution_count": 9,
     "metadata": {},
     "output_type": "execute_result"
    }
   ],
   "source": [
    "'''\n",
    "cat_A = tickets[tickets[\"Category\"] == 'A']\n",
    "plt.figure(figsize = (20, 20))\n",
    "wc = WordCloud(max_words = 1000 , width = 1600 , height = 800,\n",
    "               collocations=False).generate(\" \".join(cat_A[\"Description\"]))\n",
    "plt.imshow(wc)'''"
   ]
  },
  {
   "cell_type": "code",
   "execution_count": 10,
   "metadata": {},
   "outputs": [
    {
     "data": {
      "text/plain": [
       "'cat_B = tickets[tickets[\"Category\"] == \\'B\\']\\nplt.figure(figsize = (20, 20))\\nwc = WordCloud(max_words = 1000 , width = 1600 , height = 800,\\n               collocations=False).generate(\" \".join(cat_B[\"Description\"]))\\nplt.imshow(wc)'"
      ]
     },
     "execution_count": 10,
     "metadata": {},
     "output_type": "execute_result"
    }
   ],
   "source": [
    "'''cat_B = tickets[tickets[\"Category\"] == 'B']\n",
    "plt.figure(figsize = (20, 20))\n",
    "wc = WordCloud(max_words = 1000 , width = 1600 , height = 800,\n",
    "               collocations=False).generate(\" \".join(cat_B[\"Description\"]))\n",
    "plt.imshow(wc)'''"
   ]
  },
  {
   "cell_type": "code",
   "execution_count": 11,
   "metadata": {},
   "outputs": [
    {
     "data": {
      "text/plain": [
       "'cat_C = tickets[tickets[\"Category\"] == \\'C\\']\\nplt.figure(figsize = (20, 20))\\nwc = WordCloud(max_words = 1000 , width = 1600 , height = 800,\\n               collocations=False).generate(\" \".join(cat_C[\"Description\"]))\\nplt.imshow(wc)'"
      ]
     },
     "execution_count": 11,
     "metadata": {},
     "output_type": "execute_result"
    }
   ],
   "source": [
    "'''cat_C = tickets[tickets[\"Category\"] == 'C']\n",
    "plt.figure(figsize = (20, 20))\n",
    "wc = WordCloud(max_words = 1000 , width = 1600 , height = 800,\n",
    "               collocations=False).generate(\" \".join(cat_C[\"Description\"]))\n",
    "plt.imshow(wc)'''"
   ]
  },
  {
   "cell_type": "code",
   "execution_count": 12,
   "metadata": {},
   "outputs": [
    {
     "data": {
      "text/plain": [
       "'cat_D = tickets[tickets[\"Category\"] == \\'D\\']\\nplt.figure(figsize = (20, 20))\\nwc = WordCloud(max_words = 1000 , width = 1600 , height = 800,\\n               collocations=False).generate(\" \".join(cat_D[\"Description\"]))\\nplt.imshow(wc)'"
      ]
     },
     "execution_count": 12,
     "metadata": {},
     "output_type": "execute_result"
    }
   ],
   "source": [
    "'''cat_D = tickets[tickets[\"Category\"] == 'D']\n",
    "plt.figure(figsize = (20, 20))\n",
    "wc = WordCloud(max_words = 1000 , width = 1600 , height = 800,\n",
    "               collocations=False).generate(\" \".join(cat_D[\"Description\"]))\n",
    "plt.imshow(wc)'''"
   ]
  },
  {
   "cell_type": "code",
   "execution_count": 13,
   "metadata": {},
   "outputs": [
    {
     "data": {
      "text/plain": [
       "'cat_E = tickets[tickets[\"Category\"] == \\'E\\']\\nplt.figure(figsize = (20, 20))\\nwc = WordCloud(max_words = 1000 , width = 1600 , height = 800,\\n               collocations=False).generate(\" \".join(cat_E[\"Description\"]))\\nplt.imshow(wc)'"
      ]
     },
     "execution_count": 13,
     "metadata": {},
     "output_type": "execute_result"
    }
   ],
   "source": [
    "'''cat_E = tickets[tickets[\"Category\"] == 'E']\n",
    "plt.figure(figsize = (20, 20))\n",
    "wc = WordCloud(max_words = 1000 , width = 1600 , height = 800,\n",
    "               collocations=False).generate(\" \".join(cat_E[\"Description\"]))\n",
    "plt.imshow(wc)'''"
   ]
  },
  {
   "cell_type": "code",
   "execution_count": 14,
   "metadata": {},
   "outputs": [
    {
     "data": {
      "text/html": [
       "<div>\n",
       "<style scoped>\n",
       "    .dataframe tbody tr th:only-of-type {\n",
       "        vertical-align: middle;\n",
       "    }\n",
       "\n",
       "    .dataframe tbody tr th {\n",
       "        vertical-align: top;\n",
       "    }\n",
       "\n",
       "    .dataframe thead th {\n",
       "        text-align: right;\n",
       "    }\n",
       "</style>\n",
       "<table border=\"1\" class=\"dataframe\">\n",
       "  <thead>\n",
       "    <tr style=\"text-align: right;\">\n",
       "      <th></th>\n",
       "      <th>Description</th>\n",
       "      <th>Category</th>\n",
       "    </tr>\n",
       "  </thead>\n",
       "  <tbody>\n",
       "    <tr>\n",
       "      <th>0</th>\n",
       "      <td>hi since recruiter lead permission approve req...</td>\n",
       "      <td>D</td>\n",
       "    </tr>\n",
       "    <tr>\n",
       "      <th>1</th>\n",
       "      <td>re expire days hi ask help update passwords co...</td>\n",
       "      <td>D</td>\n",
       "    </tr>\n",
       "    <tr>\n",
       "      <th>2</th>\n",
       "      <td>verification warning hi has got attached pleas...</td>\n",
       "      <td>D</td>\n",
       "    </tr>\n",
       "    <tr>\n",
       "      <th>3</th>\n",
       "      <td>please dear looks blacklisted receiving mails ...</td>\n",
       "      <td>D</td>\n",
       "    </tr>\n",
       "    <tr>\n",
       "      <th>4</th>\n",
       "      <td>dear modules report report cost thank much reg...</td>\n",
       "      <td>D</td>\n",
       "    </tr>\n",
       "  </tbody>\n",
       "</table>\n",
       "</div>"
      ],
      "text/plain": [
       "                                         Description Category\n",
       "0  hi since recruiter lead permission approve req...        D\n",
       "1  re expire days hi ask help update passwords co...        D\n",
       "2  verification warning hi has got attached pleas...        D\n",
       "3  please dear looks blacklisted receiving mails ...        D\n",
       "4  dear modules report report cost thank much reg...        D"
      ]
     },
     "execution_count": 14,
     "metadata": {},
     "output_type": "execute_result"
    }
   ],
   "source": [
    "def lowwering(tickets):\n",
    "    tickets['Description']=tickets['Description'].str.lower()\n",
    "    tickets['Description'].head()\n",
    "    return tickets\n",
    "tickets = lowwering(tickets)\n",
    "tickets.head()"
   ]
  },
  {
   "cell_type": "code",
   "execution_count": 15,
   "metadata": {},
   "outputs": [
    {
     "data": {
      "text/plain": [
       "{'a',\n",
       " 'about',\n",
       " 'above',\n",
       " 'after',\n",
       " 'again',\n",
       " 'ain',\n",
       " 'all',\n",
       " 'am',\n",
       " 'an',\n",
       " 'and',\n",
       " 'any',\n",
       " 'are',\n",
       " 'as',\n",
       " 'at',\n",
       " 'be',\n",
       " 'because',\n",
       " 'been',\n",
       " 'before',\n",
       " 'being',\n",
       " 'below',\n",
       " 'between',\n",
       " 'both',\n",
       " 'by',\n",
       " 'can',\n",
       " 'card',\n",
       " 'd',\n",
       " 'dear',\n",
       " 'did',\n",
       " 'do',\n",
       " 'does',\n",
       " 'doing',\n",
       " 'down',\n",
       " 'during',\n",
       " 'each',\n",
       " 'few',\n",
       " 'for',\n",
       " 'friday',\n",
       " 'from',\n",
       " 'further',\n",
       " 'had',\n",
       " 'has',\n",
       " 'have',\n",
       " 'having',\n",
       " 'he',\n",
       " 'hello',\n",
       " 'her',\n",
       " 'here',\n",
       " 'hers',\n",
       " 'herself',\n",
       " 'hi',\n",
       " 'him',\n",
       " 'himself',\n",
       " 'his',\n",
       " 'how',\n",
       " 'i',\n",
       " 'if',\n",
       " 'in',\n",
       " 'into',\n",
       " 'is',\n",
       " 'it',\n",
       " 'its',\n",
       " 'itself',\n",
       " 'just',\n",
       " 'll',\n",
       " 'm',\n",
       " 'ma',\n",
       " 'me',\n",
       " 'monday',\n",
       " 'more',\n",
       " 'most',\n",
       " 'my',\n",
       " 'myself',\n",
       " 'now',\n",
       " 'o',\n",
       " 'of',\n",
       " 'on',\n",
       " 'once',\n",
       " 'only',\n",
       " 'or',\n",
       " 'other',\n",
       " 'our',\n",
       " 'ours',\n",
       " 'ourselves',\n",
       " 'out',\n",
       " 'own',\n",
       " 'please',\n",
       " 're',\n",
       " 'regards',\n",
       " 's',\n",
       " 'same',\n",
       " 'saturday',\n",
       " 'sent',\n",
       " 'she',\n",
       " 'shes',\n",
       " 'should',\n",
       " 'shouldve',\n",
       " 'since',\n",
       " 'so',\n",
       " 'some',\n",
       " 'such',\n",
       " 'sunday',\n",
       " 't',\n",
       " 'than',\n",
       " 'thank',\n",
       " 'thanks',\n",
       " 'that',\n",
       " 'thatll',\n",
       " 'the',\n",
       " 'their',\n",
       " 'theirs',\n",
       " 'them',\n",
       " 'themselves',\n",
       " 'then',\n",
       " 'there',\n",
       " 'these',\n",
       " 'they',\n",
       " 'this',\n",
       " 'those',\n",
       " 'through',\n",
       " 'thursday',\n",
       " 'to',\n",
       " 'too',\n",
       " 'tuesday',\n",
       " 'under',\n",
       " 'until',\n",
       " 'up',\n",
       " 've',\n",
       " 'very',\n",
       " 'was',\n",
       " 'we',\n",
       " 'wednessday',\n",
       " 'were',\n",
       " 'what',\n",
       " 'when',\n",
       " 'where',\n",
       " 'which',\n",
       " 'while',\n",
       " 'who',\n",
       " 'whom',\n",
       " 'why',\n",
       " 'will',\n",
       " 'with',\n",
       " 'won',\n",
       " 'y',\n",
       " 'you',\n",
       " 'youd',\n",
       " 'youll',\n",
       " 'your',\n",
       " 'youre',\n",
       " 'yours',\n",
       " 'yourself',\n",
       " 'yourselves',\n",
       " 'youve'}"
      ]
     },
     "execution_count": 15,
     "metadata": {},
     "output_type": "execute_result"
    }
   ],
   "source": [
    "# defining stopwords\n",
    "stopwordlist = ['a', 'about', 'above', 'after', 'again', 'ain', 'all', 'am', 'an',\n",
    "             'and','any','are', 'as', 'at', 'be', 'because', 'been', 'before',\n",
    "             'being', 'below', 'between','both', 'by', 'can', 'd', 'did', 'do',\n",
    "             'does', 'doing', 'down', 'during', 'each','few', 'for', 'from',\n",
    "             'further', 'had', 'has', 'have', 'having', 'he', 'her', 'here',\n",
    "             'hers', 'herself', 'him', 'himself', 'his', 'how', 'i', 'if', 'in',\n",
    "             'into','is', 'it', 'its', 'itself', 'just', 'll', 'm', 'ma',\n",
    "             'me', 'more', 'most','my', 'myself', 'now', 'o', 'of', 'on', 'once',\n",
    "             'only', 'or', 'other', 'our', 'ours','ourselves', 'out', 'own', 're','s', 'same', 'she', \"shes\", 'should', \"shouldve\",'so', 'some', 'such',\n",
    "             't', 'than', 'that', \"thatll\", 'the', 'their', 'theirs', 'them',\n",
    "             'themselves', 'then', 'there', 'these', 'they', 'this', 'those',\n",
    "             'through', 'to', 'too','under', 'until', 'up', 've', 'very', 'was',\n",
    "             'we', 'were', 'what', 'when', 'where','which','while', 'who', 'whom',\n",
    "             'why', 'will', 'with', 'won', 'y', 'you', \"youd\",\"youll\", \"youre\",\n",
    "             \"youve\", 'your', 'yours', 'yourself', 'yourselves', 'please', 'thank', 'thanks', 'card', 'hello', 'regards', 'hi', 'sent', 'dear', 'since', 'monday' , 'tuesday', 'wednessday', 'thursday', 'friday', 'saturday', 'sunday']\n",
    "STOPWORDS = set(stopwordlist)\n",
    "STOPWORDS"
   ]
  },
  {
   "cell_type": "code",
   "execution_count": 16,
   "metadata": {},
   "outputs": [
    {
     "data": {
      "text/plain": [
       "2995    feedback follow conf call setup meeting one co...\n",
       "2996    issues keep getting errors errors preventing s...\n",
       "2997    en working properly guys issue number en locat...\n",
       "2998    wednesday july log incident laptop engineer ma...\n",
       "2999    july connection issues connection issues worki...\n",
       "Name: Description, dtype: object"
      ]
     },
     "execution_count": 16,
     "metadata": {},
     "output_type": "execute_result"
    }
   ],
   "source": [
    "# removing stopwords from data\n",
    "def cleaning_stopwords(text):\n",
    "    return \" \".join([word for word in str(text).split() if word not in STOPWORDS])\n",
    "tickets['Description'] = tickets['Description'].apply(lambda text: cleaning_stopwords(text))\n",
    "tickets['Description'].tail() "
   ]
  },
  {
   "cell_type": "code",
   "execution_count": null,
   "metadata": {},
   "outputs": [],
   "source": [
    "cat_A = tickets[tickets[\"Category\"] == 'A']\n",
    "plt.figure(figsize = (20, 20))\n",
    "wc = WordCloud(max_words = 1000 , width = 1600 , height = 800,\n",
    "               collocations=False).generate(\" \".join(cat_A[\"Description\"]))\n",
    "plt.imshow(wc)"
   ]
  },
  {
   "cell_type": "code",
   "execution_count": 18,
   "metadata": {},
   "outputs": [
    {
     "data": {
      "text/plain": [
       "'cat_B = tickets[tickets[\"Category\"] == \\'B\\']\\nplt.figure(figsize = (20, 20))\\nwc = WordCloud(max_words = 1000 , width = 1600 , height = 800,\\n               collocations=False).generate(\" \".join(cat_B[\"Description\"]))\\nplt.imshow(wc)'"
      ]
     },
     "execution_count": 18,
     "metadata": {},
     "output_type": "execute_result"
    }
   ],
   "source": [
    "'''cat_B = tickets[tickets[\"Category\"] == 'B']\n",
    "plt.figure(figsize = (20, 20))\n",
    "wc = WordCloud(max_words = 1000 , width = 1600 , height = 800,\n",
    "               collocations=False).generate(\" \".join(cat_B[\"Description\"]))\n",
    "plt.imshow(wc)'''"
   ]
  },
  {
   "cell_type": "code",
   "execution_count": 19,
   "metadata": {},
   "outputs": [
    {
     "data": {
      "text/plain": [
       "'cat_C = tickets[tickets[\"Category\"] == \\'C\\']\\nplt.figure(figsize = (20, 20))\\nwc = WordCloud(max_words = 1000 , width = 1600 , height = 800,\\n               collocations=False).generate(\" \".join(cat_C[\"Description\"]))\\nplt.imshow(wc)'"
      ]
     },
     "execution_count": 19,
     "metadata": {},
     "output_type": "execute_result"
    }
   ],
   "source": [
    "'''cat_C = tickets[tickets[\"Category\"] == 'C']\n",
    "plt.figure(figsize = (20, 20))\n",
    "wc = WordCloud(max_words = 1000 , width = 1600 , height = 800,\n",
    "               collocations=False).generate(\" \".join(cat_C[\"Description\"]))\n",
    "plt.imshow(wc)'''"
   ]
  },
  {
   "cell_type": "code",
   "execution_count": 20,
   "metadata": {},
   "outputs": [
    {
     "data": {
      "text/plain": [
       "'cat_D = tickets[tickets[\"Category\"] == \\'D\\']\\nplt.figure(figsize = (20, 20))\\nwc = WordCloud(max_words = 1000 , width = 1600 , height = 800,\\n               collocations=False).generate(\" \".join(cat_D[\"Description\"]))\\nplt.imshow(wc) '"
      ]
     },
     "execution_count": 20,
     "metadata": {},
     "output_type": "execute_result"
    }
   ],
   "source": [
    "'''cat_D = tickets[tickets[\"Category\"] == 'D']\n",
    "plt.figure(figsize = (20, 20))\n",
    "wc = WordCloud(max_words = 1000 , width = 1600 , height = 800,\n",
    "               collocations=False).generate(\" \".join(cat_D[\"Description\"]))\n",
    "plt.imshow(wc) '''"
   ]
  },
  {
   "cell_type": "code",
   "execution_count": 21,
   "metadata": {},
   "outputs": [
    {
     "data": {
      "text/plain": [
       "'\\ncat_E = tickets[tickets[\"Category\"] == \\'E\\']\\nplt.figure(figsize = (20, 20))\\nwc = WordCloud(max_words = 1000 , width = 1600 , height = 800,\\n               collocations=False).generate(\" \".join(cat_E[\"Description\"]))\\nplt.imshow(wc)\\n'"
      ]
     },
     "execution_count": 21,
     "metadata": {},
     "output_type": "execute_result"
    }
   ],
   "source": [
    "'''\n",
    "cat_E = tickets[tickets[\"Category\"] == 'E']\n",
    "plt.figure(figsize = (20, 20))\n",
    "wc = WordCloud(max_words = 1000 , width = 1600 , height = 800,\n",
    "               collocations=False).generate(\" \".join(cat_E[\"Description\"]))\n",
    "plt.imshow(wc)\n",
    "'''"
   ]
  },
  {
   "cell_type": "code",
   "execution_count": 22,
   "metadata": {},
   "outputs": [
    {
     "data": {
      "text/plain": [
       "0    [recruiter, lead, permission, approve, requisi...\n",
       "1    [expire, days, ask, help, update, passwords, c...\n",
       "2    [verification, warning, got, attached, address...\n",
       "3    [looks, blacklisted, receiving, mails, anymore...\n",
       "4                [modules, report, report, cost, much]\n",
       "Name: Description, dtype: object"
      ]
     },
     "execution_count": 22,
     "metadata": {},
     "output_type": "execute_result"
    }
   ],
   "source": [
    "# tokenizing\n",
    "def tokenizing(tickets):\n",
    "    tokenizer = RegexpTokenizer('\\s+', gaps = True)\n",
    "    tickets['Description'] = tickets['Description'].apply(tokenizer.tokenize)\n",
    "    return tickets\n",
    "tickets = tokenizing(tickets)\n",
    "tickets['Description'].head()"
   ]
  },
  {
   "cell_type": "code",
   "execution_count": 23,
   "metadata": {},
   "outputs": [
    {
     "data": {
      "text/plain": [
       "0    [recruiter, lead, permission, approve, requisi...\n",
       "1    [expire, day, ask, help, update, password, col...\n",
       "2    [verification, warning, got, attached, address...\n",
       "3    [look, blacklisted, receiving, mail, anymore, ...\n",
       "4                 [module, report, report, cost, much]\n",
       "Name: Description, dtype: object"
      ]
     },
     "execution_count": 23,
     "metadata": {},
     "output_type": "execute_result"
    }
   ],
   "source": [
    "# lemmatizing\n",
    "def lemmatizing(tickets):\n",
    "    lm = nltk.WordNetLemmatizer()\n",
    "    def lemmatizer_on_text(data):\n",
    "        data = [lm.lemmatize(word) for word in data]\n",
    "        return data\n",
    "    tickets['Description'] = tickets['Description'].apply(lambda x: lemmatizer_on_text(x))\n",
    "    return tickets\n",
    "tickets = lemmatizing(tickets)\n",
    "tickets['Description'].head()"
   ]
  },
  {
   "cell_type": "code",
   "execution_count": 24,
   "metadata": {},
   "outputs": [
    {
     "data": {
      "text/plain": [
       "0    [recruit, lead, permiss, approv, requisit, mak...\n",
       "1    [expir, day, ask, help, updat, password, colle...\n",
       "2    [verif, warn, got, attach, address, best, moni...\n",
       "3    [look, blacklist, receiv, mail, anymor, sampl,...\n",
       "4                  [modul, report, report, cost, much]\n",
       "Name: Description, dtype: object"
      ]
     },
     "execution_count": 24,
     "metadata": {},
     "output_type": "execute_result"
    }
   ],
   "source": [
    "# stemming\n",
    "def stemming(tickets):\n",
    "    st = nltk.PorterStemmer()\n",
    "    def stemming_on_text(data):\n",
    "        data = [st.stem(word) for word in data]\n",
    "        return data\n",
    "    tickets['Description'] = tickets['Description'].apply(lambda x: stemming_on_text(x))\n",
    "    return tickets\n",
    "tickets = stemming(tickets)\n",
    "tickets['Description'].head()"
   ]
  },
  {
   "cell_type": "code",
   "execution_count": 25,
   "metadata": {},
   "outputs": [],
   "source": [
    "X = tickets.Description.astype(str)\n",
    "y = tickets.Category"
   ]
  },
  {
   "cell_type": "code",
   "execution_count": 26,
   "metadata": {},
   "outputs": [],
   "source": [
    "# spliting data\n",
    "X_train, X_test, y_train, y_test = train_test_split(X, y, test_size = 0.05, random_state = 1)"
   ]
  },
  {
   "cell_type": "code",
   "execution_count": 27,
   "metadata": {},
   "outputs": [
    {
     "name": "stdout",
     "output_type": "stream",
     "text": [
      "No. of feature_words:  41470\n"
     ]
    },
    {
     "data": {
      "text/plain": [
       "\"\\nvectoriser = CountVectorizer(stop_words = 'english')\\nvectoriser.fit(X_train)\\n\""
      ]
     },
     "execution_count": 27,
     "metadata": {},
     "output_type": "execute_result"
    }
   ],
   "source": [
    "vectoriser = TfidfVectorizer(ngram_range = (1, 2), max_features = 50000)\n",
    "vectoriser.fit(X_train)\n",
    "print('No. of feature_words: ', len(vectoriser.get_feature_names_out()))\n",
    "\n",
    "'''\n",
    "vectoriser = CountVectorizer(stop_words = 'english')\n",
    "vectoriser.fit(X_train)\n",
    "'''"
   ]
  },
  {
   "cell_type": "code",
   "execution_count": 28,
   "metadata": {},
   "outputs": [],
   "source": [
    "X_train = vectoriser.transform(X_train)\n",
    "X_test = vectoriser.transform(X_test)"
   ]
  },
  {
   "cell_type": "code",
   "execution_count": 29,
   "metadata": {},
   "outputs": [],
   "source": [
    "# creating function to evaluate differnt models\n",
    "def model_evaluate(model):\n",
    "    y_pred = model.predict(X_test)\n",
    "    print(classification_report(y_test, y_pred))\n",
    "    cf_matrix = confusion_matrix(y_test, y_pred)\n",
    "    '''\n",
    "    categories = ['Negative', 'Positive']\n",
    "    group_names = ['True Negative', 'False Negative', 'True Positive', 'False Positive']\n",
    "    group_percentages = ['{0:.2%}'.format(value) for value in cf_matrix.flatten() / np.sum(cf_matrix)]\n",
    "    labels = [f'{v1}n{v2}' for v1, v2 in zip(group_names, group_percentages)]\n",
    "    labels = np.asarray(labels).reshape(2,2)\n",
    "    '''\n",
    "    \n",
    "    sns.heatmap(cf_matrix, cmap = 'Blues',fmt = '')\n",
    "    plt.xlabel(\"Predicted values\", fontdict = {'size':14}, labelpad = 10)\n",
    "    plt.ylabel(\"Actual values\" , fontdict = {'size':14}, labelpad = 10)\n",
    "    plt.title (\"Confusion Matrix\", fontdict = {'size':18}, pad = 20)"
   ]
  },
  {
   "cell_type": "code",
   "execution_count": 30,
   "metadata": {},
   "outputs": [
    {
     "name": "stdout",
     "output_type": "stream",
     "text": [
      "              precision    recall  f1-score   support\n",
      "\n",
      "           A       0.80      0.32      0.46        25\n",
      "           B       0.33      1.00      0.49        26\n",
      "           C       0.90      0.79      0.84        34\n",
      "           D       0.80      0.22      0.34        37\n",
      "           E       0.80      0.57      0.67        28\n",
      "\n",
      "    accuracy                           0.57       150\n",
      "   macro avg       0.72      0.58      0.56       150\n",
      "weighted avg       0.74      0.57      0.56       150\n",
      "\n"
     ]
    },
    {
     "data": {
      "image/png": "[encoded data removed]",
      "text/plain": [
       "<Figure size 432x288 with 2 Axes>"
      ]
     },
     "metadata": {
      "needs_background": "light"
     },
     "output_type": "display_data"
    }
   ],
   "source": [
    "# using Bernoulli's Naive Bayes\n",
    "BNBmodel = BernoulliNB()\n",
    "BNBmodel.fit(X_train, y_train)\n",
    "model_evaluate(BNBmodel)\n",
    "y_pred1 = BNBmodel.predict(X_test)"
   ]
  },
  {
   "cell_type": "code",
   "execution_count": 31,
   "metadata": {},
   "outputs": [
    {
     "name": "stdout",
     "output_type": "stream",
     "text": [
      "              precision    recall  f1-score   support\n",
      "\n",
      "           A       0.64      0.84      0.72        25\n",
      "           B       0.83      0.96      0.89        26\n",
      "           C       1.00      0.79      0.89        34\n",
      "           D       0.84      0.70      0.76        37\n",
      "           E       0.72      0.75      0.74        28\n",
      "\n",
      "    accuracy                           0.80       150\n",
      "   macro avg       0.81      0.81      0.80       150\n",
      "weighted avg       0.82      0.80      0.80       150\n",
      "\n"
     ]
    },
    {
     "data": {
      "image/png": "[encoded data removed]",
      "text/plain": [
       "<Figure size 432x288 with 2 Axes>"
      ]
     },
     "metadata": {
      "needs_background": "light"
     },
     "output_type": "display_data"
    }
   ],
   "source": [
    "# using Support vector Machine\n",
    "SVCmodel = LinearSVC()\n",
    "SVCmodel.fit(X_train, y_train)\n",
    "model_evaluate(SVCmodel)\n",
    "y_pred2 = SVCmodel.predict(X_test)"
   ]
  },
  {
   "cell_type": "code",
   "execution_count": 32,
   "metadata": {},
   "outputs": [
    {
     "name": "stdout",
     "output_type": "stream",
     "text": [
      "              precision    recall  f1-score   support\n",
      "\n",
      "           A       0.66      0.76      0.70        25\n",
      "           B       0.83      0.92      0.87        26\n",
      "           C       1.00      0.82      0.90        34\n",
      "           D       0.81      0.78      0.79        37\n",
      "           E       0.79      0.79      0.79        28\n",
      "\n",
      "    accuracy                           0.81       150\n",
      "   macro avg       0.81      0.82      0.81       150\n",
      "weighted avg       0.82      0.81      0.82       150\n",
      "\n"
     ]
    },
    {
     "data": {
      "image/png": "[encoded data removed]",
      "text/plain": [
       "<Figure size 432x288 with 2 Axes>"
      ]
     },
     "metadata": {
      "needs_background": "light"
     },
     "output_type": "display_data"
    }
   ],
   "source": [
    "# using Logistic Regression\n",
    "LRmodel = LogisticRegression(C = 2, max_iter = 1000, n_jobs=-1)\n",
    "LRmodel.fit(X_train, y_train)\n",
    "model_evaluate(LRmodel)\n",
    "y_pred3 = LRmodel.predict(X_test)"
   ]
  },
  {
   "cell_type": "code",
   "execution_count": 33,
   "metadata": {},
   "outputs": [],
   "source": [
    "final_model = LRmodel"
   ]
  },
  {
   "cell_type": "code",
   "execution_count": 34,
   "metadata": {},
   "outputs": [],
   "source": [
    "'''\n",
    "title = \"laptop\"\n",
    "Description = \"LAPTOP not working properly\"\n",
    "\n",
    "col_names = [\"Description\", \"title\"]\n",
    "raw_data = pd.DataFrame([[Description, title]])\n",
    "raw_data.columns = col_names\n",
    "raw_data\n",
    "'''\n",
    "col_names = [\"Description\", \"title\"]"
   ]
  },
  {
   "cell_type": "markdown",
   "metadata": {},
   "source": [
    "*DEPLOYING MODEL*"
   ]
  },
  {
   "cell_type": "code",
   "execution_count": 36,
   "metadata": {},
   "outputs": [
    {
     "name": "stdout",
     "output_type": "stream",
     "text": [
      " * Serving Flask app '__main__' (lazy loading)\n",
      " * Environment: production\n",
      "\u001b[31m   WARNING: This is a development server. Do not use it in a production deployment.\u001b[0m\n",
      "\u001b[2m   Use a production WSGI server instead.\u001b[0m\n",
      " * Debug mode: off\n"
     ]
    },
    {
     "name": "stderr",
     "output_type": "stream",
     "text": [
      " * Running on http://127.0.0.1:5000 (Press CTRL+C to quit)\n",
      "127.0.0.1 - - [11/Apr/2022 22:41:33] \"GET / HTTP/1.1\" 200 -\n",
      "127.0.0.1 - - [11/Apr/2022 22:41:34] \"GET / HTTP/1.1\" 200 -\n",
      "127.0.0.1 - - [11/Apr/2022 22:41:34] \"GET / HTTP/1.1\" 200 -\n",
      "127.0.0.1 - - [11/Apr/2022 22:41:44] \"POST /sub HTTP/1.1\" 200 -\n"
     ]
    },
    {
     "name": "stdout",
     "output_type": "stream",
     "text": [
      "            Description   title\n",
      "0  forgot wifi password  hello \n"
     ]
    },
    {
     "name": "stderr",
     "output_type": "stream",
     "text": [
      "127.0.0.1 - - [11/Apr/2022 22:41:58] \"POST /sub HTTP/1.1\" 200 -\n"
     ]
    },
    {
     "name": "stdout",
     "output_type": "stream",
     "text": [
      "                   Description   title\n",
      "0  can't see attendance in SAP  hello \n"
     ]
    },
    {
     "name": "stderr",
     "output_type": "stream",
     "text": [
      "127.0.0.1 - - [11/Apr/2022 22:42:09] \"POST /sub HTTP/1.1\" 200 -\n"
     ]
    },
    {
     "name": "stdout",
     "output_type": "stream",
     "text": [
      "       Description   title\n",
      "0  need admit card  hello \n"
     ]
    },
    {
     "name": "stderr",
     "output_type": "stream",
     "text": [
      "127.0.0.1 - - [11/Apr/2022 22:42:23] \"POST /sub HTTP/1.1\" 200 -\n"
     ]
    },
    {
     "name": "stdout",
     "output_type": "stream",
     "text": [
      "    Description   title\n",
      "0  laptop issue  hello \n"
     ]
    }
   ],
   "source": [
    "app = Flask(__name__)\n",
    "@app.route(\"/\")\n",
    "def hello():\n",
    "    return render_template(\"index.html\")\n",
    "@app.route(\"/sub\", methods = ['POST'])\n",
    "def submit():\n",
    "    if request.method == \"POST\":\n",
    "        title = request.form[\"title\"]\n",
    "        Description = request.form[\"body\"]\n",
    "        raw_data = pd.DataFrame([[Description, title]])\n",
    "        raw_data.columns = col_names\n",
    "        print(raw_data)\n",
    "        raw_data = process_data(raw_data)\n",
    "        X = raw_data.Description.astype(str)\n",
    "        X = vectoriser.transform(X)\n",
    "        y = final_model.predict(X)\n",
    "        predicted_category = y\n",
    "    return render_template(\"submit.html\", show = predicted_category)\n",
    "if __name__ == \"__main__\":\n",
    "    app.run()"
   ]
  },
  {
   "cell_type": "code",
   "execution_count": null,
   "metadata": {},
   "outputs": [],
   "source": []
  }
 ],
 "metadata": {
  "interpreter": {
   "hash": "e856646e9efed25199fd09930d78d179876ea19ef2e344479908aad547c55da9"
  },
  "kernelspec": {
   "display_name": "Python 3.9.7 ('virtual-env')",
   "language": "python",
   "name": "python3"
  },
  "language_info": {
   "codemirror_mode": {
    "name": "ipython",
    "version": 3
   },
   "file_extension": ".py",
   "mimetype": "text/x-python",
   "name": "python",
   "nbconvert_exporter": "python",
   "pygments_lexer": "ipython3",
   "version": "3.9.7"
  },
  "orig_nbformat": 4
 },
 "nbformat": 4,
 "nbformat_minor": 2
}
